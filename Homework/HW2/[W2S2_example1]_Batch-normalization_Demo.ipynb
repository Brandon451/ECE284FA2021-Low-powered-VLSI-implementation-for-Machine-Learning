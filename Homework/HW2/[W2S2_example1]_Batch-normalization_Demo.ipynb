{
 "cells": [
  {
   "cell_type": "code",
   "execution_count": 18,
   "id": "electrical-currency",
   "metadata": {},
   "outputs": [
    {
     "name": "stdout",
     "output_type": "stream",
     "text": [
      "learning mean is: tensor([0., 0., 0.])\n",
      "learning var is: tensor([1., 1., 1.])\n",
      "learning mean is: tensor([ 0.0159, -0.0220,  0.0078])\n",
      "learning var is: tensor([0.9894, 1.0400, 1.0252])\n",
      "learning mean is: tensor([ 0.0159, -0.0220,  0.0078])\n",
      "learning var is: tensor([0.9894, 1.0400, 1.0252])\n"
     ]
    }
   ],
   "source": [
    "import torch\n",
    "import torch.nn as nn\n",
    "import torch.nn.functional as F\n",
    "\n",
    "\n",
    "\n",
    "n_batch = 10    # batch size\n",
    "n_channel = 3\n",
    "momentum = 0.1\n",
    "\n",
    "bn = nn.BatchNorm2d(n_channel, momentum = momentum, affine=False)  ## learnable parameters not used by setting affine = \"False\"\n",
    "\n",
    "print(\"learning mean is:\", bn.running_mean)\n",
    "print(\"learning var is:\",  bn.running_var)\n",
    "\n",
    "input = torch.randn(n_batch, n_channel, 2, 2) \n",
    "output = bn(input)\n",
    "\n",
    "print(\"learning mean is:\", bn.running_mean)\n",
    "print(\"learning var is:\",  bn.running_var)\n",
    "\n",
    "bn.eval()  # without bn.eval(), the mean & var will be updated again\n",
    "input_new = torch.randn(n_batch, n_channel, 2, 2)\n",
    "output = bn(input_new)\n",
    "\n",
    "print(\"learning mean is:\", bn.running_mean)\n",
    "print(\"learning var is:\",  bn.running_var)"
   ]
  },
  {
   "cell_type": "code",
   "execution_count": 19,
   "id": "studied-momentum",
   "metadata": {},
   "outputs": [
    {
     "name": "stdout",
     "output_type": "stream",
     "text": [
      "manually calculated mean: tensor(0.0159)\n",
      "manually calculated mean: tensor(-0.0220)\n",
      "manually calculated mean: tensor(0.0078)\n"
     ]
    }
   ],
   "source": [
    "mean = torch.zeros(n_channel)\n",
    "\n",
    "for ch in range(n_channel):\n",
    "    for batch in range(n_batch):\n",
    "        mean[ch] += (input[batch,ch,0,0] + input[batch,ch,0,1] + input[batch,ch,1,0] + input[batch,ch,1,1])\n",
    "    print(\"manually calculated mean:\", mean[ch]/(n_batch*2*2)*momentum)"
   ]
  },
  {
   "cell_type": "code",
   "execution_count": 10,
   "id": "proprietary-sacramento",
   "metadata": {},
   "outputs": [],
   "source": []
  },
  {
   "cell_type": "code",
   "execution_count": 8,
   "id": "normal-database",
   "metadata": {},
   "outputs": [
    {
     "data": {
      "text/plain": [
       "tensor(2.6722)"
      ]
     },
     "execution_count": 8,
     "metadata": {},
     "output_type": "execute_result"
    }
   ],
   "source": []
  },
  {
   "cell_type": "code",
   "execution_count": 11,
   "id": "ambient-aircraft",
   "metadata": {},
   "outputs": [
    {
     "data": {
      "text/plain": [
       "tensor(-1.3177)"
      ]
     },
     "execution_count": 11,
     "metadata": {},
     "output_type": "execute_result"
    }
   ],
   "source": []
  },
  {
   "cell_type": "code",
   "execution_count": 12,
   "id": "hydraulic-hawaii",
   "metadata": {},
   "outputs": [
    {
     "data": {
      "text/plain": [
       "0.1693125"
      ]
     },
     "execution_count": 12,
     "metadata": {},
     "output_type": "execute_result"
    }
   ],
   "source": []
  },
  {
   "cell_type": "code",
   "execution_count": null,
   "id": "experienced-publisher",
   "metadata": {},
   "outputs": [],
   "source": []
  }
 ],
 "metadata": {
  "kernelspec": {
   "display_name": "Python 3",
   "language": "python",
   "name": "python3"
  },
  "language_info": {
   "codemirror_mode": {
    "name": "ipython",
    "version": 3
   },
   "file_extension": ".py",
   "mimetype": "text/x-python",
   "name": "python",
   "nbconvert_exporter": "python",
   "pygments_lexer": "ipython3",
   "version": "3.8.5"
  }
 },
 "nbformat": 4,
 "nbformat_minor": 5
}
