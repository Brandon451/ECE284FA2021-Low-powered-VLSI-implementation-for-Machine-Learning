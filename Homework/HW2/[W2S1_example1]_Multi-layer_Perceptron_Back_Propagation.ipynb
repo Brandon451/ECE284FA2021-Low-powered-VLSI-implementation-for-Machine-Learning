{
 "cells": [
  {
   "cell_type": "code",
   "execution_count": null,
   "id": "miniature-siemens",
   "metadata": {},
   "outputs": [],
   "source": [
    "import torch\n",
    "import torch.nn as nn\n",
    "import torch.nn.functional as F\n",
    "\n",
    "import torch\n",
    "\n",
    "#def criterion(out, label):\n",
    "#    return ((label - out)**2).mean()\n",
    "criterion = nn.MSELoss()\n",
    "\n",
    "r = nn.ReLU()\n",
    "\n",
    "W1 = torch.tensor([[ 2.0,1.0],[ 0.0,1.0]], requires_grad=True)\n",
    "W2 = torch.tensor([[ 1.0,2.0],[ 1.0,2.0]], requires_grad=True)\n",
    "X  = torch.tensor([1.0,2.0])\n",
    "T  = torch.tensor([0.0,0.0])\n",
    "\n",
    "S2 = torch.matmul(X,W1)\n",
    "Y2 = r(S2)\n",
    "S3 = torch.matmul(Y2,W2)\n",
    "Y3 = r(S3)\n",
    "loss = criterion(Y3, T)\n",
    "loss.backward()\n",
    "\n",
    "print(W1.grad)\n",
    "print(W2.grad)\n",
    "print(Y3)"
   ]
  },
  {
   "cell_type": "code",
   "execution_count": null,
   "id": "functional-booking",
   "metadata": {},
   "outputs": [],
   "source": [
    "import torch\n",
    "import torch.nn as nn\n",
    "import torch.nn.functional as F\n",
    "import torch.optim as optim\n",
    "\n",
    "\n",
    "\n",
    "criterion = nn.MSELoss()\n",
    "\n",
    "W1 = torch.tensor([[2.0,1.0],[0.0,1.0]], requires_grad=True)\n",
    "W2 = torch.tensor([[1.0,2.0],[1.0,2.0]], requires_grad=True)\n",
    "X  = torch.tensor([1.0,2.0])\n",
    "T  = torch.tensor([0.0,0.0])\n",
    "\n",
    "\n",
    "class Net(nn.Module):\n",
    "    def __init__(self):\n",
    "        super(Net, self).__init__()\n",
    "        self.fc1 = nn.Linear(2,2,bias=False)\n",
    "        self.fc2 = nn.Linear(2,2,bias=False)\n",
    "        self.ReLU = nn.ReLU()\n",
    "    def forward(self, x):\n",
    "        S2 = self.fc1(x)\n",
    "        #print(\"S2 is:\", S2)\n",
    "        Y2 = self.ReLU(S2)\n",
    "        y = self.ReLU(self.fc2(Y2))\n",
    "        return y\n",
    "\n",
    "net = Net()\n",
    "# nn.linear computes X*A^T. Thus, we provided transposed value\n",
    "net.fc1.weight = torch.nn.Parameter(torch.transpose(W1,0,1)) \n",
    "net.fc2.weight = torch.nn.Parameter(torch.transpose(W2,0,1))\n",
    "\n",
    "\n",
    "print(net)\n",
    "print(\"Initial parameter:\", list(net.parameters()))\n",
    "\n",
    "Y3 = net(X)\n",
    "\n",
    "print(\"Y3 is:\", Y3)\n",
    "\n",
    "optimizer = optim.SGD(net.parameters(), lr=0.01, momentum=0.5)\n",
    "loss = criterion(Y3, T)\n",
    "loss.backward()\n",
    "\n",
    "print(\"W1.grad:\", net.fc1.weight.grad)\n",
    "print(\"W2.grad:\", net.fc2.weight.grad)\n",
    "\n"
   ]
  },
  {
   "cell_type": "code",
   "execution_count": null,
   "id": "fleet-packet",
   "metadata": {},
   "outputs": [],
   "source": [
    "optimizer.step()\n",
    "\n",
    "print(\"new parameter:\", list(net.parameters()))\n",
    "Y3 = net(X)\n",
    "print(\"Y3 after 1st training is:\", Y3)\n",
    "\n",
    "loss = criterion(Y3, T)\n",
    "loss.backward()\n",
    "\n",
    "optimizer.step()\n",
    "\n",
    "Y3 = net(X)\n",
    "print(\"Y3 after 2nd training is:\", Y3)"
   ]
  },
  {
   "cell_type": "code",
   "execution_count": null,
   "id": "prostate-survivor",
   "metadata": {},
   "outputs": [],
   "source": []
  },
  {
   "cell_type": "code",
   "execution_count": null,
   "id": "anticipated-light",
   "metadata": {},
   "outputs": [],
   "source": []
  },
  {
   "cell_type": "code",
   "execution_count": null,
   "id": "portuguese-aviation",
   "metadata": {},
   "outputs": [],
   "source": []
  },
  {
   "cell_type": "code",
   "execution_count": null,
   "id": "pressing-buyer",
   "metadata": {},
   "outputs": [],
   "source": []
  },
  {
   "cell_type": "code",
   "execution_count": null,
   "id": "historic-potter",
   "metadata": {},
   "outputs": [],
   "source": []
  },
  {
   "cell_type": "code",
   "execution_count": null,
   "id": "peaceful-calculator",
   "metadata": {},
   "outputs": [],
   "source": []
  },
  {
   "cell_type": "code",
   "execution_count": null,
   "id": "threaded-owner",
   "metadata": {},
   "outputs": [],
   "source": []
  }
 ],
 "metadata": {
  "kernelspec": {
   "display_name": "Python 3",
   "language": "python",
   "name": "python3"
  },
  "language_info": {
   "codemirror_mode": {
    "name": "ipython",
    "version": 3
   },
   "file_extension": ".py",
   "mimetype": "text/x-python",
   "name": "python",
   "nbconvert_exporter": "python",
   "pygments_lexer": "ipython3",
   "version": "3.8.5"
  }
 },
 "nbformat": 4,
 "nbformat_minor": 5
}
