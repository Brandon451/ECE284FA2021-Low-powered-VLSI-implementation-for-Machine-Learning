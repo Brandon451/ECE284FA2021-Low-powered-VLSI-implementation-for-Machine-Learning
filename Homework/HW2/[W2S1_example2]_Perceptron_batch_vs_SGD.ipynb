{
 "cells": [
  {
   "cell_type": "code",
   "execution_count": null,
   "id": "miniature-siemens",
   "metadata": {},
   "outputs": [],
   "source": [
    "import torch\n",
    "from torch.autograd import Variable\n",
    "import torch.nn as nn\n",
    "import torch.nn.functional as F\n",
    "\n",
    "import torch.optim as optim\n",
    "import matplotlib.pyplot as plt\n",
    "\n",
    "class Net(nn.Module):\n",
    "    def __init__(self):\n",
    "        super(Net, self).__init__()\n",
    "        self.fc1 = nn.Linear(2,1,bias=False)\n",
    "    def forward(self, x):\n",
    "        x = self.fc1(x)\n",
    "        return x\n",
    "\n",
    "net = Net()\n",
    "print(net)\n",
    "\n",
    "\n",
    "net.fc1.weight = torch.nn.Parameter(torch.tensor([[1., -1.]], requires_grad=True))\n",
    "\n",
    "print(list(net.parameters()))\n",
    "\n",
    "#input = torch.randn(1,2)\n",
    "#out = net(input)\n",
    "\n",
    "\n",
    "criterion = nn.MSELoss()\n",
    "#def criterion(out, label):\n",
    "#    return ((label - out)**2).mean()\n",
    "\n",
    "\n",
    "optimizer = optim.SGD(net.parameters(), lr=0.01, momentum=0.5)\n",
    "#optimizer = optim.Adam(net.parameters(), lr=0.005)\n",
    "\n",
    "\n",
    "data = torch.tensor([[1.,3.], [2.,6.], [3.,9.]], dtype=torch.float)\n",
    "target = torch.tensor([[1.],[5.],[13.]], dtype=torch.float)\n",
    "\n",
    "hist = []\n",
    "\n",
    "############## Batch GD based update ##############       \n",
    "      \n",
    "for epoch in range(300):   \n",
    "    optimizer.zero_grad()\n",
    "    outputs = net(data)\n",
    "    loss = criterion(outputs, target)\n",
    "    loss.backward()\n",
    "    hist.append(loss)\n",
    "    optimizer.step()\n",
    "    print(\"Epoch {} - loss: {}\".format(epoch, loss))\n",
    "####################################################\n",
    "\n",
    "### Test the trained network ###\n",
    "for i, current_data in enumerate(data):\n",
    "    out = net(current_data)  \n",
    "    print(\"when x = {}, y = {}\".format(current_data, out))\n",
    "    \n",
    "plt.plot(hist, label = \"training curve\")"
   ]
  },
  {
   "cell_type": "code",
   "execution_count": null,
   "id": "functional-booking",
   "metadata": {},
   "outputs": [],
   "source": [
    "\n"
   ]
  },
  {
   "cell_type": "code",
   "execution_count": null,
   "id": "fleet-packet",
   "metadata": {},
   "outputs": [],
   "source": []
  },
  {
   "cell_type": "code",
   "execution_count": null,
   "id": "prostate-survivor",
   "metadata": {},
   "outputs": [],
   "source": []
  },
  {
   "cell_type": "code",
   "execution_count": null,
   "id": "anticipated-light",
   "metadata": {},
   "outputs": [],
   "source": []
  },
  {
   "cell_type": "code",
   "execution_count": null,
   "id": "portuguese-aviation",
   "metadata": {},
   "outputs": [],
   "source": []
  },
  {
   "cell_type": "code",
   "execution_count": null,
   "id": "pressing-buyer",
   "metadata": {},
   "outputs": [],
   "source": []
  }
 ],
 "metadata": {
  "kernelspec": {
   "display_name": "Python 3",
   "language": "python",
   "name": "python3"
  },
  "language_info": {
   "codemirror_mode": {
    "name": "ipython",
    "version": 3
   },
   "file_extension": ".py",
   "mimetype": "text/x-python",
   "name": "python",
   "nbconvert_exporter": "python",
   "pygments_lexer": "ipython3",
   "version": "3.8.5"
  }
 },
 "nbformat": 4,
 "nbformat_minor": 5
}
