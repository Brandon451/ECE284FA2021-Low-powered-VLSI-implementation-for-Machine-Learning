{
 "cells": [
  {
   "cell_type": "code",
   "execution_count": null,
   "id": "miniature-siemens",
   "metadata": {},
   "outputs": [],
   "source": [
    "import torch\n",
    "from torch.autograd import Variable\n",
    "import torch.nn as nn\n",
    "import torch.nn.functional as F\n",
    "\n",
    "import torch\n",
    "\n",
    "\n",
    "criterion = nn.MSELoss()\n",
    "\n",
    "r = nn.ReLU()\n",
    "\n",
    "W1 = torch.tensor([[  2.0,1.0],[ 0.0,-1.0]], requires_grad=True)\n",
    "W2 = torch.tensor([[ -1.0,2.0],[ 1.0, 2.0]], requires_grad=True)\n",
    "X  = torch.tensor([1.0,2.0])\n",
    "T  = torch.tensor([0.0,0.0])\n",
    "\n",
    "S2 = torch.matmul(X,W1)\n",
    "Y2 = r(S2)\n",
    "S3 = torch.matmul(Y2,W2)\n",
    "Y3 = r(S3)\n",
    "loss = criterion(Y3, T)\n",
    "loss.backward()\n",
    "\n",
    "print(W1.grad)\n",
    "print(W2.grad)\n",
    "print(\"Y3 is:\", Y3)"
   ]
  },
  {
   "cell_type": "code",
   "execution_count": null,
   "id": "functional-booking",
   "metadata": {},
   "outputs": [],
   "source": []
  },
  {
   "cell_type": "code",
   "execution_count": null,
   "id": "fleet-packet",
   "metadata": {},
   "outputs": [],
   "source": []
  },
  {
   "cell_type": "code",
   "execution_count": null,
   "id": "prostate-survivor",
   "metadata": {},
   "outputs": [],
   "source": []
  },
  {
   "cell_type": "code",
   "execution_count": null,
   "id": "anticipated-light",
   "metadata": {},
   "outputs": [],
   "source": []
  },
  {
   "cell_type": "code",
   "execution_count": null,
   "id": "portuguese-aviation",
   "metadata": {},
   "outputs": [],
   "source": []
  },
  {
   "cell_type": "code",
   "execution_count": null,
   "id": "pressing-buyer",
   "metadata": {},
   "outputs": [],
   "source": []
  }
 ],
 "metadata": {
  "kernelspec": {
   "display_name": "Python 3",
   "language": "python",
   "name": "python3"
  },
  "language_info": {
   "codemirror_mode": {
    "name": "ipython",
    "version": 3
   },
   "file_extension": ".py",
   "mimetype": "text/x-python",
   "name": "python",
   "nbconvert_exporter": "python",
   "pygments_lexer": "ipython3",
   "version": "3.8.5"
  }
 },
 "nbformat": 4,
 "nbformat_minor": 5
}
