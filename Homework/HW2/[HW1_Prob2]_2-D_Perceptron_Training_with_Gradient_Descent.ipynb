{
 "cells": [
  {
   "cell_type": "code",
   "execution_count": null,
   "source": [
    "import torch\n",
    "import torch.nn as nn\n",
    "import torch.nn.functional as F\n",
    "\n",
    "import torch.optim as optim\n",
    "\n",
    "#Training data\n",
    "data = [(1.0,2.1,3.0), (2.0, 3.5, 6.0), (3.0, 3.0, 9.0), (4.0, 2.1, 12.0), (5.0, 7.2, 15.0), (6.0, 10.1, 18.0)]\n",
    "\n",
    "#Net defination\n",
    "class Net(nn.Module):\n",
    "    def __init__(self):\n",
    "        super(Net, self).__init__()\n",
    "        self.fc1 = nn.Linear(2,1,bias=False)  # in dim, out dim\n",
    "    def forward(self, x):\n",
    "        x = self.fc1(x)\n",
    "        return x\n",
    "\n",
    "net = Net()\n",
    "\n",
    "print(net)\n",
    "print(list(net.parameters()))\n",
    "\n",
    "#Loss definition\n",
    "criterion = nn.MSELoss()\n",
    "\n",
    "#Optimizer definition\n",
    "optimizer = optim.SGD(net.parameters(), lr=0.01, momentum=0.5)\n",
    "\n",
    "for epoch in range(30):\n",
    "    for i, current_data in enumerate(data):\n",
    "        X, Y = current_data[:2], current_data[2]\n",
    "        X, Y = torch.FloatTensor([X]), torch.FloatTensor([Y])\n",
    "        optimizer.zero_grad()   \n",
    "        outputs = net(X)\n",
    "        loss = criterion(outputs, Y)\n",
    "        loss.backward()\n",
    "        optimizer.step()\n",
    "        if (i % 10 == 0):\n",
    "            print(\"Epoch {} - loss: {}\".format(epoch, loss))\n",
    "\n",
    "### Test the trained network ###            \n",
    "for i, current_data in enumerate(data):\n",
    "    X, Y = current_data[:2], current_data[2]\n",
    "    X, Y = torch.FloatTensor([X]), torch.FloatTensor([Y])  \n",
    "    out = net(torch.FloatTensor(X))  \n",
    "    print(\"when x = {}, y = {}\".format(X, out))\n"
   ],
   "outputs": [],
   "metadata": {}
  }
 ],
 "metadata": {
  "kernelspec": {
   "display_name": "Python 3",
   "language": "python",
   "name": "python3"
  },
  "language_info": {
   "codemirror_mode": {
    "name": "ipython",
    "version": 3
   },
   "file_extension": ".py",
   "mimetype": "text/x-python",
   "name": "python",
   "nbconvert_exporter": "python",
   "pygments_lexer": "ipython3",
   "version": "3.8.5"
  }
 },
 "nbformat": 4,
 "nbformat_minor": 5
}